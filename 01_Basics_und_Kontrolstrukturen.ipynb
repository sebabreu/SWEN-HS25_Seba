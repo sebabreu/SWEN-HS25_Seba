{
 "cells": [
  {
   "cell_type": "markdown",
   "metadata": {},
   "source": [
    "# 1) Jupyter-Notebook Grundlagen und Kontrolstrukturen"
   ]
  },
  {
   "attachments": {
    "image.png": {
     "image/png": "[encoded data removed]"
    }
   },
   "cell_type": "markdown",
   "metadata": {},
   "source": [
    "Jupyter Notebooks bieten eine grossartige Möglichkeit, Code (in unserem Fall Python-Code) und formattierten Text zu kombinieren. Diese Art des Arbeitens ist besonders im Datascience und Forschungsumfeld sehr beliebt, da neben formattiertem Text auch Grafiken eingebunden werden können. So entsteht eine interaktive Dokumentation der eigenen Arbeit.\n",
    "\n",
    "Jeder Textbereich kann durch Doppelclicken bearbeitet werden und Du kannst überall eigene Ergänzungen, Erklärungen und Notizen einfügen. Den Text gibst Du in einem speziellen Format namens \"Markdown\" ein. Markdown erlaubt es Dir, mit normalen Zeichen spezielle Formattierungen anzugeben, welche dann nach der Bearbeitung korrekt formattiert angezeigt werden.\n",
    "\n",
    "All diese Textteile sind mit Markdown erzeugt worden. Doppelclicke auf den folgenden Block und schau Dir an, wie dieser geschrieben wurde. Versuche selbst, Änderungen zu machen und beobachte, wie diese Aussehen. Um Deine Änderungen zu sehen, musst Du den Editier-Modus jeweils wieder verlassen indem Du `Ctrl-Enter` drückst oder den kleinen Hacken oben rechts im Block anclickst.\n",
    "\n",
    "![image.png](attachment:image.png)"
   ]
  },
  {
   "cell_type": "markdown",
   "metadata": {},
   "source": [
    "## Titelzeile\n",
    "\n",
    "Titelzeilen beginnen mit `#`-Zeichen. Ein `#` entspricht einem Titel der Stufe eins, zwei `##` entsprechend Stufe zwei etc. etc.\n",
    "\n",
    "Wenn Du Text als Code formattiert haben möchtest, kannst Du diesen innerhalb der sogenannten Backticks, dem Zeichen \\` setzen. Du könntest also schreiben \"In Python würde ich die Funktion `print` aufrufen\".\n",
    "\n",
    "Du kannst auch bekannte Formattierungen verwenden wie **fetter Text** welchen Du zwischen jeweils zwei `**` setzt oder *kursiver Text*, welcher zwischen jeweils einem `*` gesetzt wird.\n",
    "\n",
    "Du kannst auch Aufzählungen mit und ohne Nummerierungen einfügen:\n",
    " * Eine Aufzählung ohne Nummerierung benötigt eingerückte `*`-Zeichen\n",
    " * Jeder Eintrag muss auf einer neuen Zeile stehen\n",
    " * Jede Zeile muss wieder mit einem korrekt eingerückten `*` beginnen\n",
    "   * Es ist auch möglich, durch zusätzliche Einrückung verschachtelte Aufzählungen zu erzeugen\n",
    "   * Dafür müssen die `*` auf der gleichen Spalte beginnen, wie die Texte der weniger eingerückten Einträge\n",
    "\n",
    "Für nummerierte Aufzählungen verwendest Du anstelle von `*` ein `1.`\n",
    "\n",
    " 1. Eine Aufzählung mit Nummerierung benötigt eingerückte `1.`\n",
    " 1. Tatsächlich kannst für jeden Eintrag `1.` verwenden und Markdown nummeriert die Einträge wieder korrekt. So kannst Du ganz einfach die Reihenfolge ändern ohne von Hand umnummerieren zu müssen.\n",
    " 38. Genau genommen kannst Du beliebige Zahlen verwenden ;-)\n",
    "     * Nummerierte und nicht nummerierte Aufzählungen lassen sich auch mischen\n",
    "       1. ... auch mehrfach\n",
    " 1. Und die Nummerierung stimmt immer wieder"
   ]
  },
  {
   "cell_type": "markdown",
   "metadata": {},
   "source": [
    "Wir werden aber auch kennenlernen, wie man freistehende Python-Programme schreibt und ausführt. Dies entspricht eher der Art, wie Softwareentwickler arbeiten. Es ist auch in Python-Code möglich, einfache Arten von Dokumentation und kleinen Hilfen zu integrieren. Dafür kann auf jeder gewünschten Zeile im Python Code ein `#`-Symbol als Start eines \"Kommentars\" verwendet werden. Alles, was nach dem `#` folgt, wird vom Python-Interpreter einfach ignoriert.\n",
    "\n",
    "Wenn ihr mehr zur Verwendung von Jupyter Notebooks mit VSCode lernen wollt, findet ihr auf dieser Seite eine ausführliche Beschreibung: https://code.visualstudio.com/docs/datascience/jupyter-notebooks"
   ]
  },
  {
   "cell_type": "code",
   "execution_count": 3,
   "metadata": {},
   "outputs": [
    {
     "ename": "ModuleNotFoundError",
     "evalue": "No module named 'iplantuml'",
     "output_type": "error",
     "traceback": [
      "\u001b[0;31m---------------------------------------------------------------------------\u001b[0m",
      "\u001b[0;31mModuleNotFoundError\u001b[0m                       Traceback (most recent call last)",
      "Cell \u001b[0;32mIn[3], line 3\u001b[0m\n\u001b[1;32m      1\u001b[0m \u001b[38;5;66;03m# Diese Zelle kann nur ausgeführt werden, wenn iplantuml installiert wurde\u001b[39;00m\n\u001b[1;32m      2\u001b[0m \u001b[38;5;66;03m# und ist auch nur nötig, wenn man Änderungen an den Diagrammen vornehmen will\u001b[39;00m\n\u001b[0;32m----> 3\u001b[0m \u001b[38;5;28;01mimport\u001b[39;00m \u001b[38;5;21;01miplantuml\u001b[39;00m\n",
      "\u001b[0;31mModuleNotFoundError\u001b[0m: No module named 'iplantuml'"
     ]
    }
   ],
   "source": [
    "# Diese Zelle kann nur ausgeführt werden, wenn iplantuml installiert wurde\n",
    "# und ist auch nur nötig, wenn man Änderungen an den Diagrammen vornehmen will\n",
    "import iplantuml"
   ]
  },
  {
   "cell_type": "markdown",
   "metadata": {},
   "source": [
    "## Erste Programmierversuche\n",
    "\n",
    "Zum Einstieg wollen wir eine ganze einfache Ausgabe programmieren. Mit der Funktion `print()` können beliebige Texte ausgegeben werden. Auszugebende Texte werden in Python immer in doppelte Anführungszeichen `\"` oder einfache Anführungszeichen `'` gepackt, damit Python sie von Python-eigenen Worten (Schlüsselwörter aber auch Variablen und Funktionsnamen) unterscheiden kann.\n",
    "\n",
    "Mit dem folgenden Code geben wir den Text `Hello World` gleich vier mal hintereinander aus."
   ]
  },
  {
   "cell_type": "code",
   "execution_count": 2,
   "metadata": {},
   "outputs": [
    {
     "name": "stdout",
     "output_type": "stream",
     "text": [
      "Hello World\n",
      "Hello World\n",
      "Hello World\n",
      "Hello World\n"
     ]
    }
   ],
   "source": [
    "print(\"Hello World\")\n",
    "print(\"Hello World\")\n",
    "print(\"Hello World\")\n",
    "print(\"Hello World\")"
   ]
  },
  {
   "attachments": {
    "image-2.png": {
     "image/png": "[encoded data removed]"
    },
    "image.png": {
     "image/png": "[encoded data removed]"
    }
   },
   "cell_type": "markdown",
   "metadata": {},
   "source": [
    "Dies ist eine ausführbare \"Zelle\" mit Python Code. Du erkennst diese an der etwas anderen Hintergrundfarbe und am kleinen Text \"Python\" in der unteren rechten Ecke.\n",
    "\n",
    "![image.png](attachment:image.png)\n",
    "\n",
    "Wenn Du mit der Maus über diesen Bereich fährst, erscheint links davon ein kleines Dreieck-Symbol. Du kannst den Code in diesem Bereich ausführen und Dir die Ausgabe davon anschauen, wenn Du dieses Symbol anclickst. Du kannst den Bereich auch einfach anclicken, auf Wunsch editieren und den Code dann mit der Tastenkombination `Ctrl-Enter` wieder ausführen lassen.\n",
    "\n",
    "![image-2.png](attachment:image-2.png)\n",
    "\n",
    "Experimentiere selbst mit allen Codestücken und probiere aus, wie sich das Verhalten ändert, wenn Du den Code veränderst. Du kannst die Änderungen immer wieder rückgängig machen und im schlimmsten Fall auf die Originaldokumente über Git zurück greifen."
   ]
  },
  {
   "cell_type": "markdown",
   "metadata": {},
   "source": [
    "<div class=\"alert alert-block alert-warning\">\n",
    "    <b>Wichtig:</b> Häufiger Fehler beim Aufruf von Funktion ist, dass vergessen wurde, die Argumente der Funktion in die runden Klammern <code>(</code> und <code>)</code> zu packen. Immer wenn wir von einer Funktion sprechen und diese ausführen möchten, müssen wir die runden Klammern verwenden. Dies ist auch nötig, wenn die Funktion keine Parameter entgegen nimmt und wir nur eine leere Parameterliste haben: <code>()</code>. Du wirst in Teil 2 noch mehr über Funktionen lernen.\n",
    "</div>"
   ]
  },
  {
   "cell_type": "markdown",
   "metadata": {},
   "source": [
    "## Schleifen\n",
    "\n",
    "Solche mehrfachen Schritte können wir mit Python auch vereinfachen, sodass wir nicht jedes `print()` einzeln schreiben müssen. Mit einer `for`-Schleife können wir den obigen Code wesentlich verkürzen. Der folgende Code sagt soviel wie, \"lass die Variable `index` über einen Bereich (erzeugt mit der Funktion `range()`) von 4 Zahlen gehen und führe dabei die im folgenden eingerückten Zeilen Code aus\".\n",
    "\n",
    "<div class=\"alert alert-block alert-warning\">\n",
    "    <b>Wichtig:</b> Häufiger Fehler bei Schleifen, später aber auch <code>if</code>-Abfragen, Funktionsdefinitionen und Klassen, ist der vergessene Doppelpunkt <code>:</code> am Ende der Zeile mit dem <code>for</code>.\n",
    "</div>"
   ]
  },
  {
   "cell_type": "code",
   "execution_count": 4,
   "metadata": {},
   "outputs": [
    {
     "name": "stdout",
     "output_type": "stream",
     "text": [
      "Hello World\n",
      "Hello World\n",
      "Hello World\n",
      "Hello World\n"
     ]
    }
   ],
   "source": [
    "for index in range(4):\n",
    "    print(\"Hello World\")"
   ]
  },
  {
   "cell_type": "markdown",
   "metadata": {},
   "source": [
    "In diesem Code verwenden wir bisher die Variable `index` noch gar nicht und wir könnten sie auch einfach durch die spezielle Variable `_` ersetzen um damit klar zu sagen, dass wir uns für den Index nicht interessieren.\n",
    "\n",
    "Wir wollen diese Gelegenheit aber nutzen, um in jeder ausgegebenen Zeile auch noch die Anzahl Male auszugegeben, die wir bisher schon etwas ausgedruckt haben. Mithilfe sogenannter f-Strings, können wir ganz einfach einen Variablen-Wert oder ganze Berechnungen in einen Text einfügen. Dafür setzen wir vor die ersten Anführungszeichen des Texts ein `f` und fügen dann den Variablen-Wert zwischen die geschweiften Klammern `{` und `}` an der gewünschten Stelle in unseren Text ein. Man kann sich f-Strings als eine Art von Template oder Vorlage vorstellen. Die veränderlichen Inhalte fügen wir in den statischen Text ein, indem wir sie mit `{}` einschliessen."
   ]
  },
  {
   "cell_type": "code",
   "execution_count": 6,
   "metadata": {},
   "outputs": [
    {
     "name": "stdout",
     "output_type": "stream",
     "text": [
      "0 mal Hello World\n",
      "1 mal Hello World\n",
      "2 mal Hello World\n",
      "3 mal Hello World\n"
     ]
    }
   ],
   "source": [
    "for index in range(4):\n",
    "    print(f\"{index} mal Hello World\")"
   ]
  },
  {
   "cell_type": "markdown",
   "metadata": {},
   "source": [
    "### Indices sind 0-basiert\n",
    "\n",
    "Das überraschende an dieser Ausgabe ist, dass die erste Zeile `0mal Hello World` lautet, wir also scheinbar bei 0 anfangen zu zählen. Das hängt damit zusammen, dass wir später auch beim Zugriff auf Listen oder Zeichenketten für den Zugriff auf das erste Element, jeweils auf das Element mit Index 0 zugreifen - Programmierer beginnen gerne bei 0 mit Zählen. Für eine kurze Erklärung warum dies so ist, hilft Dir vielleicht das knapp minütige Video [Why Do Programmers Count from Zero](https://www.youtube.com/shorts/iEK5_6-N08E).\n",
    "\n",
    "Unser Problem von oben können wir aber ganz einfach lösen, indem wir in der Ausgabe zum `index` noch `1` dazu zählen. Dies kann man sogar direkt zwischen die `{}`-Klammern schreiben:"
   ]
  },
  {
   "cell_type": "code",
   "execution_count": null,
   "metadata": {},
   "outputs": [],
   "source": [
    "for index in range(4):\n",
    "    print(f\"{index+1}mal Hello World\")"
   ]
  },
  {
   "cell_type": "markdown",
   "metadata": {},
   "source": [
    "## Benutzerinteraktion"
   ]
  },
  {
   "attachments": {
    "image.png": {
     "image/png": "[encoded data removed]"
    }
   },
   "cell_type": "markdown",
   "metadata": {},
   "source": [
    "Programme werden noch spannender, wenn der Benutzer Eingaben machen kann. In Python ist dies sehr einfach möglich mit der Funktion `input()`. Beim Ausführen dieser Funktion gibt Python den Text aus, der `input()` als Parameter übergeben wurde und fordert den Benutzer auf, etwas einzugeben. Dieser angezeigte Text wird auch Prompt genannt.\n",
    "\n",
    "In VSCode erscheint in diesem Fall im oberen Bereich des VS-Code-Fensters eine kleine Dialogbox mit dem Prompt und einem Eingabefeld.\n",
    "![image.png](attachment:image.png)"
   ]
  },
  {
   "cell_type": "code",
   "execution_count": 7,
   "metadata": {},
   "outputs": [
    {
     "data": {
      "text/plain": [
       "'5'"
      ]
     },
     "execution_count": 7,
     "metadata": {},
     "output_type": "execute_result"
    }
   ],
   "source": [
    "input(\"Wie oft hättest du gerne hello?\")"
   ]
  },
  {
   "cell_type": "markdown",
   "metadata": {},
   "source": [
    "Wir wollen an dieser Stelle kurz stoppen und zwei wichtige Punkte festhalten\n",
    "\n",
    " 1. Die Funktion `input()` gibt uns die Benutzereingabe als Rückgabewert zurück. Zur weiteren Verwendung kann es also Sinn machen, diesen in einer Variable zu speichern. Wir könnten hier also `anzahl = input(\"Wie oft ...\")` verwenden.\n",
    " 1. Der Typ des Rückgabewerts ist eine Zeichenkette! Wir erkennen dies an den `'`, die uns das Jupyter-Notebook um die Zahl herum darstellt. Wenn wir diesen Rückgabewert ohne weitere Überlegungen direkt in unserer `range()`-Funktion nutzen wollen, geht dies schief. Schau Dir den folgenden Code an und was bei der Ausführung passiert."
   ]
  },
  {
   "cell_type": "code",
   "execution_count": 13,
   "metadata": {},
   "outputs": [
    {
     "ename": "TypeError",
     "evalue": "'str' object cannot be interpreted as an integer",
     "output_type": "error",
     "traceback": [
      "\u001b[31m---------------------------------------------------------------------------\u001b[39m",
      "\u001b[31mTypeError\u001b[39m                                 Traceback (most recent call last)",
      "\u001b[36mCell\u001b[39m\u001b[36m \u001b[39m\u001b[32mIn[13]\u001b[39m\u001b[32m, line 2\u001b[39m\n\u001b[32m      1\u001b[39m anzahl = \u001b[38;5;28minput\u001b[39m(\u001b[33m\"\u001b[39m\u001b[33mWie oft hättest du gerne hello?\u001b[39m\u001b[33m\"\u001b[39m)\n\u001b[32m----> \u001b[39m\u001b[32m2\u001b[39m \u001b[38;5;28;01mfor\u001b[39;00m index \u001b[38;5;129;01min\u001b[39;00m \u001b[38;5;28;43mrange\u001b[39;49m\u001b[43m(\u001b[49m\u001b[43manzahl\u001b[49m\u001b[43m)\u001b[49m:\n\u001b[32m      3\u001b[39m     \u001b[38;5;28mprint\u001b[39m(\u001b[33mf\u001b[39m\u001b[33m\"\u001b[39m\u001b[38;5;132;01m{\u001b[39;00mindex+\u001b[32m1\u001b[39m\u001b[38;5;132;01m}\u001b[39;00m\u001b[33mmal Hello\u001b[39m\u001b[33m\"\u001b[39m)\n",
      "\u001b[31mTypeError\u001b[39m: 'str' object cannot be interpreted as an integer"
     ]
    }
   ],
   "source": [
    "anzahl = input(\"Wie oft hättest du gerne hello?\")\n",
    "for index in range(anzahl):\n",
    "    print(f\"{index+1}mal Hello\")"
   ]
  },
  {
   "cell_type": "markdown",
   "metadata": {},
   "source": [
    "Mit der Fehlermeldung `'str' object cannot be interpreted as an integer` sagt uns Python etwas umständlich, dass wir beim Aufruf von `range()` einen Text/eine Zeichenkette übergeben. Wir sagen, dass der `range()`-Funktion ein Wert des Typs `str` übergeben wurde. Weiterhin sagt uns Python auch, dass es eigentlich gerne eine Zahl ohne Nachkommastellen gehabt hätte. Wir sagen, die `range()`-Funktion bräuchte einen Parameter, der als \"integer\" interpretiert werden kann.\n",
    "\n",
    "Um das Problem zu lösen, müssen wir also unseren Text noch in eine Zahl verwandeln. Dies kann die Funktion `int()` für uns machen."
   ]
  },
  {
   "cell_type": "code",
   "execution_count": 14,
   "metadata": {},
   "outputs": [
    {
     "name": "stdout",
     "output_type": "stream",
     "text": [
      "1mal Hello\n",
      "2mal Hello\n",
      "3mal Hello\n",
      "4mal Hello\n"
     ]
    }
   ],
   "source": [
    "anzahl = input(\"Wie oft hättest du gerne hello?\")\n",
    "anzahl = int(anzahl)\n",
    "for index in range(anzahl):\n",
    "    print(f\"{index+1}mal Hello\")"
   ]
  },
  {
   "cell_type": "markdown",
   "metadata": {},
   "source": [
    "## Andere Kontrolstrukturen\n",
    "\n",
    "### `while`-Schleife\n",
    "\n",
    "Die `for`-Schleifen sind dann sinnvoll und hilfreich, wenn wir die Anzahl an Durchläufen schon zum Vornherein kennen. Manchmal kennt man aber die Anzahl an Durchläufen nicht von Anfang an. Ein Beispiel könnte ein Programm sein, dass vom Benutzer Funktionen oder Kommandos entgegen nimmt und diese ausführt und erst wenn der Benutzer ein Kommando wie `exit` oder `quit` oder `beenden` eingibt wird die Abfrage-Schleife beendet. Der folgende Code-ausschnitt zeigt grob, wie dies funktionieren könnte:"
   ]
  },
  {
   "cell_type": "code",
   "execution_count": 2,
   "metadata": {},
   "outputs": [
    {
     "name": "stdout",
     "output_type": "stream",
     "text": [
      "Du möchtest also, dass ich dd ausführe\n"
     ]
    }
   ],
   "source": [
    "benutzer_eingabe = input(\"Kommando: \")\n",
    "while benutzer_eingabe!= \"beenden\":\n",
    "    print(f\"Du möchtest also, dass ich {benutzer_eingabe} ausführe\")\n",
    "    # Hier würde nun mehr Code folgen, der die Benutzereingabe verarbeitet\n",
    "    # und die entsprechenden Funktionen dafür ausführt\n",
    "    \n",
    "    # Zum Schluss müssen wir den Benutzer wieder fragen, ob er noch ein\n",
    "    # Kommando ausführen möchte, damit dieses wieder in der Bedingung\n",
    "    # für das while abgefragt werden kann.\n",
    "    benutzer_eingabe = input(\"Kommando: \")"
   ]
  },
  {
   "cell_type": "markdown",
   "metadata": {},
   "source": [
    "Die Schwierigkeiten von `while`-Schleifen werden klar, wenn wir versuchen, unser ursprüngliches Beispiel mit den 4 ausgegebenen \"Hello World\"-Zeilen als `while`-Schleife zu programmieren. Wir müssen uns schon einmal selbst darum kümmern, dass die Variable `index` einen initialen Wert erhält. Nun können wir wieder solange wiederholen, bis der `index` den Wert 4 erreicht hat.\n",
    "\n",
    "Wenn du die folgende Zelle ausführst, wirst du sehr schnell merken, dass hier mehr als 4 \"Hello\"s ausgegeben werden. Du kannst die Ausführung dann mit dem Stop-Knopf seitlich an der Zelle wieder stoppen."
   ]
  },
  {
   "cell_type": "code",
   "execution_count": 4,
   "metadata": {},
   "outputs": [
    {
     "name": "stdout",
     "output_type": "stream",
     "text": [
      "Hello\n",
      "Hello\n",
      "Hello\n",
      "Hello\n"
     ]
    }
   ],
   "source": [
    "index = 0\n",
    "while index<4:\n",
    "    print(\"Hello\")\n",
    "    index += 1"
   ]
  },
  {
   "cell_type": "markdown",
   "metadata": {},
   "source": [
    "Das Problem ist, dass wir vergessen haben, die Variable `index` in jedem Durchlauf zu erhöhen. `index` blieb auf dem Wert `0` und die Bedingung für die `while`-Schleife war immer erfüllt. Wir haben also aus Versehen eine Endlos-Schleife programmiert. Mit einer kleinen aber wichtigen Änderung ist das Problem behoben."
   ]
  },
  {
   "cell_type": "code",
   "execution_count": null,
   "metadata": {},
   "outputs": [],
   "source": [
    "index = 0\n",
    "while index<4:\n",
    "    print(\"Hello\")\n",
    "    index = index + 1   # !!! Diese Zeile ist sehr wichtig !!!"
   ]
  },
  {
   "cell_type": "markdown",
   "metadata": {},
   "source": [
    "Der Code in diesem Beispiel ist viel länger geworden als mit der `for`-Schleife und wir mussten auch noch einen Fehler beheben. Wenn wir also die Anzahl an Durchläufen kennen, ist die `for`-Schleife definitiv die geeignetere Variante."
   ]
  },
  {
   "cell_type": "markdown",
   "metadata": {},
   "source": [
    "### `if`-Verzweigungen"
   ]
  },
  {
   "cell_type": "markdown",
   "metadata": {},
   "source": [
    "Kontrollstrukturen in Programmiersprachen sind Sprachkonstrukte um den Ablauf des Programms zu beeinflussen. Mit den Schleifen haben wir schon eine Möglichkeit gesehen, wie wir einen Teil unseres Codes mehrmals durchlaufen können. Eine andere Form von Kontrollstruktur sind die `if`-Verzweigungen oder `if`-Abfragen. Diese erlauben es uns, Teile unseres Codes nur dann auszuführen, wenn eine bestimmte Bedingung erfüllt ist.\n",
    "\n",
    "In der einfach Version führen wir Code aus, wenn die Bedingung erfüllt ist oder fahren mit dem Rest des Codes weiter, wenn diese nicht erfüllt ist. Probiert den folgenden Code mit verschiedenen Eingaben:"
   ]
  },
  {
   "cell_type": "code",
   "execution_count": 5,
   "metadata": {},
   "outputs": [
    {
     "name": "stdout",
     "output_type": "stream",
     "text": [
      "Und jetzt gehts weiter\n"
     ]
    }
   ],
   "source": [
    "wert = input(\"Gib die Zahl 5 ein:\")\n",
    "if wert == \"5\":\n",
    "    print(\"Sehr gut\")\n",
    "print(\"Und jetzt gehts weiter\")"
   ]
  },
  {
   "cell_type": "markdown",
   "metadata": {},
   "source": [
    "Je nachdem, was du eingibst, wird `\"Sehr gut\"` gefolgt von `\"Und jetzt gehts weiter\"` ausgegeben oder nur `\"Und jetzt gehts weiter\"`. Die möglichen Ausführungen lassen sich auch gut in einem Flussdiagramm darstellen und erkennen:"
   ]
  },
  {
   "cell_type": "code",
   "execution_count": 10,
   "metadata": {},
   "outputs": [
    {
     "data": {
      "image/svg+xml": [
       "<svg xmlns=\"http://www.w3.org/2000/svg\" xmlns:xlink=\"http://www.w3.org/1999/xlink\" contentStyleType=\"text/css\" data-diagram-type=\"ACTIVITY\" height=\"337px\" preserveAspectRatio=\"none\" style=\"width:223px;height:337px;background:#FFFFFF;\" version=\"1.1\" viewBox=\"0 0 223 337\" width=\"223px\" zoomAndPan=\"magnify\"><defs/><g><ellipse cx=\"111.7939\" cy=\"20\" fill=\"#222222\" rx=\"10\" ry=\"10\" style=\"stroke:#222222;stroke-width:1;\"/><rect fill=\"#F1F1F1\" height=\"33.9688\" rx=\"12.5\" ry=\"12.5\" style=\"stroke:#181818;stroke-width:0.5;\" width=\"108.5645\" x=\"57.5117\" y=\"50\"/><text fill=\"#000000\" font-family=\"sans-serif\" font-size=\"12\" lengthAdjust=\"spacing\" textLength=\"88.5645\" x=\"67.5117\" y=\"71.1387\">wert=input(...)</text><rect fill=\"#F1F1F1\" height=\"33.9688\" rx=\"12.5\" ry=\"12.5\" style=\"stroke:#181818;stroke-width:0.5;\" width=\"119.8789\" x=\"51.8545\" y=\"152.3711\"/><text fill=\"#000000\" font-family=\"sans-serif\" font-size=\"12\" lengthAdjust=\"spacing\" textLength=\"99.8789\" x=\"61.8545\" y=\"173.5098\">print(&quot;Sehr gut&quot;)</text><polygon fill=\"#F1F1F1\" points=\"78.7993,103.9688,144.7886,103.9688,156.7886,115.9688,144.7886,127.9688,78.7993,127.9688,66.7993,115.9688,78.7993,103.9688\" style=\"stroke:#181818;stroke-width:0.5;\"/><text fill=\"#000000\" font-family=\"sans-serif\" font-size=\"11\" lengthAdjust=\"spacing\" textLength=\"19.0083\" x=\"115.7939\" y=\"138.1792\">yes</text><text fill=\"#000000\" font-family=\"sans-serif\" font-size=\"11\" lengthAdjust=\"spacing\" textLength=\"65.9893\" x=\"78.7993\" y=\"119.7769\">wert==&quot;5&quot;?</text><text fill=\"#000000\" font-family=\"sans-serif\" font-size=\"11\" lengthAdjust=\"spacing\" textLength=\"13.7017\" x=\"156.7886\" y=\"113.3745\">no</text><polygon fill=\"#F1F1F1\" points=\"111.7939,206.3398,123.7939,218.3398,111.7939,230.3398,99.7939,218.3398,111.7939,206.3398\" style=\"stroke:#181818;stroke-width:0.5;\"/><rect fill=\"#F1F1F1\" height=\"33.9688\" rx=\"12.5\" ry=\"12.5\" style=\"stroke:#181818;stroke-width:0.5;\" width=\"201.5879\" x=\"11\" y=\"250.3398\"/><text fill=\"#000000\" font-family=\"sans-serif\" font-size=\"12\" lengthAdjust=\"spacing\" textLength=\"181.5879\" x=\"21\" y=\"271.4785\">print(&quot;Und jetzt gehts weiter&quot;)</text><ellipse cx=\"111.7939\" cy=\"315.3086\" fill=\"none\" rx=\"11\" ry=\"11\" style=\"stroke:#222222;stroke-width:1;\"/><ellipse cx=\"111.7939\" cy=\"315.3086\" fill=\"#222222\" rx=\"6\" ry=\"6\" style=\"stroke:#222222;stroke-width:1;\"/><line style=\"stroke:#181818;stroke-width:1;\" x1=\"111.7939\" x2=\"111.7939\" y1=\"30\" y2=\"50\"/><polygon fill=\"#181818\" points=\"107.7939,40,111.7939,50,115.7939,40,111.7939,44\" style=\"stroke:#181818;stroke-width:1;\"/><line style=\"stroke:#181818;stroke-width:1;\" x1=\"111.7939\" x2=\"111.7939\" y1=\"127.9688\" y2=\"152.3711\"/><polygon fill=\"#181818\" points=\"107.7939,142.3711,111.7939,152.3711,115.7939,142.3711,111.7939,146.3711\" style=\"stroke:#181818;stroke-width:1;\"/><line style=\"stroke:#181818;stroke-width:1;\" x1=\"156.7886\" x2=\"181.7334\" y1=\"115.9688\" y2=\"115.9688\"/><polygon fill=\"#181818\" points=\"177.7334,159.3555,181.7334,169.3555,185.7334,159.3555,181.7334,163.3555\" style=\"stroke:#181818;stroke-width:1;\"/><line style=\"stroke:#181818;stroke-width:1;\" x1=\"181.7334\" x2=\"181.7334\" y1=\"115.9688\" y2=\"218.3398\"/><line style=\"stroke:#181818;stroke-width:1;\" x1=\"181.7334\" x2=\"123.7939\" y1=\"218.3398\" y2=\"218.3398\"/><polygon fill=\"#181818\" points=\"133.7939,214.3398,123.7939,218.3398,133.7939,222.3398,129.7939,218.3398\" style=\"stroke:#181818;stroke-width:1;\"/><line style=\"stroke:#181818;stroke-width:1;\" x1=\"111.7939\" x2=\"111.7939\" y1=\"186.3398\" y2=\"206.3398\"/><polygon fill=\"#181818\" points=\"107.7939,196.3398,111.7939,206.3398,115.7939,196.3398,111.7939,200.3398\" style=\"stroke:#181818;stroke-width:1;\"/><line style=\"stroke:#181818;stroke-width:1;\" x1=\"111.7939\" x2=\"111.7939\" y1=\"83.9688\" y2=\"103.9688\"/><polygon fill=\"#181818\" points=\"107.7939,93.9688,111.7939,103.9688,115.7939,93.9688,111.7939,97.9688\" style=\"stroke:#181818;stroke-width:1;\"/><line style=\"stroke:#181818;stroke-width:1;\" x1=\"111.7939\" x2=\"111.7939\" y1=\"230.3398\" y2=\"250.3398\"/><polygon fill=\"#181818\" points=\"107.7939,240.3398,111.7939,250.3398,115.7939,240.3398,111.7939,244.3398\" style=\"stroke:#181818;stroke-width:1;\"/><line style=\"stroke:#181818;stroke-width:1;\" x1=\"111.7939\" x2=\"111.7939\" y1=\"284.3086\" y2=\"304.3086\"/><polygon fill=\"#181818\" points=\"107.7939,294.3086,111.7939,304.3086,115.7939,294.3086,111.7939,298.3086\" style=\"stroke:#181818;stroke-width:1;\"/><!--SRC=[DOl12i8m40Nl-nLBJiabDo-LuaU87o3qjLcHRKXUAVhrLi4v3ZETzqOPTZIEvdLZp3cdizYiyIV7S0gNf2nmZI_q97emr6RE6AueJPUDuLZmxD3eQnBuPBFycvjF-W3Vr0M5NNSOqRv7vre_]--></g></svg>"
      ],
      "text/plain": [
       "<IPython.core.display.SVG object>"
      ]
     },
     "execution_count": 10,
     "metadata": {},
     "output_type": "execute_result"
    }
   ],
   "source": [
    "%%plantuml\n",
    "@startuml\n",
    "\n",
    "start\n",
    ":wert=input(...);\n",
    "if (wert==\"5\"?) then (yes)\n",
    "    :print(\"Sehr gut\");\n",
    "else (no)\n",
    "endif\n",
    ":print(\"Und jetzt gehts weiter\");\n",
    "stop\n",
    "\n",
    "@enduml"
   ]
  },
  {
   "cell_type": "markdown",
   "metadata": {},
   "source": [
    "In einer zweiten Variante behandeln wir den Fall, dass die Bedingung nicht erfüllt ist ebenfalls speziell. Diese Art von Struktur könnte man übersetzen als \"Wenn die Bedingung erfüllt ist, führe den ersten Code-Block aus, falls sie nicht erfüllt ist, und nur dann, führe den zweiten Code-Block aus.\""
   ]
  },
  {
   "cell_type": "code",
   "execution_count": 6,
   "metadata": {},
   "outputs": [
    {
     "name": "stdout",
     "output_type": "stream",
     "text": [
      "Du hättest doch 5 eingeben sollen\n",
      "Und jetzt gehts weiter\n"
     ]
    }
   ],
   "source": [
    "wert = input(\"Gib die Zahl 5 ein:\")\n",
    "if wert == \"5\":\n",
    "    print(\"Sehr gut\")\n",
    "else:\n",
    "    print(\"Du hättest doch 5 eingeben sollen\")\n",
    "print(\"Und jetzt gehts weiter\")"
   ]
  },
  {
   "cell_type": "markdown",
   "metadata": {},
   "source": [
    "Wieder als Flussdiagramm sieht dies dann so aus:"
   ]
  },
  {
   "cell_type": "code",
   "execution_count": 11,
   "metadata": {},
   "outputs": [
    {
     "data": {
      "image/svg+xml": [
       "<svg xmlns=\"http://www.w3.org/2000/svg\" xmlns:xlink=\"http://www.w3.org/1999/xlink\" contentStyleType=\"text/css\" data-diagram-type=\"ACTIVITY\" height=\"308px\" preserveAspectRatio=\"none\" style=\"width:444px;height:308px;background:#FFFFFF;\" version=\"1.1\" viewBox=\"0 0 444 308\" width=\"444px\" zoomAndPan=\"magnify\"><defs/><g><ellipse cx=\"181.5547\" cy=\"20\" fill=\"#222222\" rx=\"10\" ry=\"10\" style=\"stroke:#222222;stroke-width:1;\"/><rect fill=\"#F1F1F1\" height=\"33.9688\" rx=\"12.5\" ry=\"12.5\" style=\"stroke:#181818;stroke-width:0.5;\" width=\"108.5645\" x=\"127.2725\" y=\"50\"/><text fill=\"#000000\" font-family=\"sans-serif\" font-size=\"12\" lengthAdjust=\"spacing\" textLength=\"88.5645\" x=\"137.2725\" y=\"71.1387\">wert=input(...)</text><polygon fill=\"#F1F1F1\" points=\"148.5601,103.9688,214.5493,103.9688,226.5493,115.9688,214.5493,127.9688,148.5601,127.9688,136.5601,115.9688,148.5601,103.9688\" style=\"stroke:#181818;stroke-width:0.5;\"/><text fill=\"#000000\" font-family=\"sans-serif\" font-size=\"11\" lengthAdjust=\"spacing\" textLength=\"65.9893\" x=\"148.5601\" y=\"119.7769\">wert==&quot;5&quot;?</text><text fill=\"#000000\" font-family=\"sans-serif\" font-size=\"11\" lengthAdjust=\"spacing\" textLength=\"19.0083\" x=\"117.5518\" y=\"113.3745\">yes</text><text fill=\"#000000\" font-family=\"sans-serif\" font-size=\"11\" lengthAdjust=\"spacing\" textLength=\"13.7017\" x=\"226.5493\" y=\"113.3745\">no</text><rect fill=\"#F1F1F1\" height=\"33.9688\" rx=\"12.5\" ry=\"12.5\" style=\"stroke:#181818;stroke-width:0.5;\" width=\"119.8789\" x=\"11\" y=\"137.9688\"/><text fill=\"#000000\" font-family=\"sans-serif\" font-size=\"12\" lengthAdjust=\"spacing\" textLength=\"99.8789\" x=\"21\" y=\"159.1074\">print(&quot;Sehr gut&quot;)</text><rect fill=\"#F1F1F1\" height=\"33.9688\" rx=\"12.5\" ry=\"12.5\" style=\"stroke:#181818;stroke-width:0.5;\" width=\"282.582\" x=\"150.8789\" y=\"137.9688\"/><text fill=\"#000000\" font-family=\"sans-serif\" font-size=\"12\" lengthAdjust=\"spacing\" textLength=\"262.582\" x=\"160.8789\" y=\"159.1074\">print(&quot;Du haettest doch 5 eingeben sollen&quot;)</text><polygon fill=\"#F1F1F1\" points=\"181.5547,177.9375,193.5547,189.9375,181.5547,201.9375,169.5547,189.9375,181.5547,177.9375\" style=\"stroke:#181818;stroke-width:0.5;\"/><rect fill=\"#F1F1F1\" height=\"33.9688\" rx=\"12.5\" ry=\"12.5\" style=\"stroke:#181818;stroke-width:0.5;\" width=\"201.5879\" x=\"80.7607\" y=\"221.9375\"/><text fill=\"#000000\" font-family=\"sans-serif\" font-size=\"12\" lengthAdjust=\"spacing\" textLength=\"181.5879\" x=\"90.7607\" y=\"243.0762\">print(&quot;Und jetzt gehts weiter&quot;)</text><ellipse cx=\"181.5547\" cy=\"286.9063\" fill=\"none\" rx=\"11\" ry=\"11\" style=\"stroke:#222222;stroke-width:1;\"/><ellipse cx=\"181.5547\" cy=\"286.9063\" fill=\"#222222\" rx=\"6\" ry=\"6\" style=\"stroke:#222222;stroke-width:1;\"/><line style=\"stroke:#181818;stroke-width:1;\" x1=\"181.5547\" x2=\"181.5547\" y1=\"30\" y2=\"50\"/><polygon fill=\"#181818\" points=\"177.5547,40,181.5547,50,185.5547,40,181.5547,44\" style=\"stroke:#181818;stroke-width:1;\"/><line style=\"stroke:#181818;stroke-width:1;\" x1=\"136.5601\" x2=\"70.9395\" y1=\"115.9688\" y2=\"115.9688\"/><line style=\"stroke:#181818;stroke-width:1;\" x1=\"70.9395\" x2=\"70.9395\" y1=\"115.9688\" y2=\"137.9688\"/><polygon fill=\"#181818\" points=\"66.9395,127.9688,70.9395,137.9688,74.9395,127.9688,70.9395,131.9688\" style=\"stroke:#181818;stroke-width:1;\"/><line style=\"stroke:#181818;stroke-width:1;\" x1=\"226.5493\" x2=\"292.1699\" y1=\"115.9688\" y2=\"115.9688\"/><line style=\"stroke:#181818;stroke-width:1;\" x1=\"292.1699\" x2=\"292.1699\" y1=\"115.9688\" y2=\"137.9688\"/><polygon fill=\"#181818\" points=\"288.1699,127.9688,292.1699,137.9688,296.1699,127.9688,292.1699,131.9688\" style=\"stroke:#181818;stroke-width:1;\"/><line style=\"stroke:#181818;stroke-width:1;\" x1=\"70.9395\" x2=\"70.9395\" y1=\"171.9375\" y2=\"189.9375\"/><line style=\"stroke:#181818;stroke-width:1;\" x1=\"70.9395\" x2=\"169.5547\" y1=\"189.9375\" y2=\"189.9375\"/><polygon fill=\"#181818\" points=\"159.5547,185.9375,169.5547,189.9375,159.5547,193.9375,163.5547,189.9375\" style=\"stroke:#181818;stroke-width:1;\"/><line style=\"stroke:#181818;stroke-width:1;\" x1=\"292.1699\" x2=\"292.1699\" y1=\"171.9375\" y2=\"189.9375\"/><line style=\"stroke:#181818;stroke-width:1;\" x1=\"292.1699\" x2=\"193.5547\" y1=\"189.9375\" y2=\"189.9375\"/><polygon fill=\"#181818\" points=\"203.5547,185.9375,193.5547,189.9375,203.5547,193.9375,199.5547,189.9375\" style=\"stroke:#181818;stroke-width:1;\"/><line style=\"stroke:#181818;stroke-width:1;\" x1=\"181.5547\" x2=\"181.5547\" y1=\"83.9688\" y2=\"103.9688\"/><polygon fill=\"#181818\" points=\"177.5547,93.9688,181.5547,103.9688,185.5547,93.9688,181.5547,97.9688\" style=\"stroke:#181818;stroke-width:1;\"/><line style=\"stroke:#181818;stroke-width:1;\" x1=\"181.5547\" x2=\"181.5547\" y1=\"201.9375\" y2=\"221.9375\"/><polygon fill=\"#181818\" points=\"177.5547,211.9375,181.5547,221.9375,185.5547,211.9375,181.5547,215.9375\" style=\"stroke:#181818;stroke-width:1;\"/><line style=\"stroke:#181818;stroke-width:1;\" x1=\"181.5547\" x2=\"181.5547\" y1=\"255.9063\" y2=\"275.9063\"/><polygon fill=\"#181818\" points=\"177.5547,265.9063,181.5547,275.9063,185.5547,265.9063,181.5547,269.9063\" style=\"stroke:#181818;stroke-width:1;\"/><!--SRC=[LOmn3e9054JxFSNFLaj3HuCXDjx0U02KWLr3_fBzGuYUNYInSCgNzyRO5xfsGs6NT5aPwhgkJYwD4WxO-SQVAs64IdZ1AYVxsgKaPV1Nn2BJIhydc0qIDFyRbrLY3n966V8ZIYD8Ek6-_rcUP-ZHwf16zsjkEiWJV5CcH9fiI4JvUiQyV000]--></g></svg>"
      ],
      "text/plain": [
       "<IPython.core.display.SVG object>"
      ]
     },
     "execution_count": 11,
     "metadata": {},
     "output_type": "execute_result"
    }
   ],
   "source": [
    "%%plantuml\n",
    "@startuml\n",
    "\n",
    "start\n",
    ":wert=input(...);\n",
    "if (wert==\"5\"?) then (yes)\n",
    "    :print(\"Sehr gut\");\n",
    "else (no)\n",
    "    :print(\"Du haettest doch 5 eingeben sollen\");\n",
    "endif\n",
    ":print(\"Und jetzt gehts weiter\");\n",
    "stop\n",
    "\n",
    "@enduml"
   ]
  },
  {
   "cell_type": "markdown",
   "metadata": {},
   "source": [
    "## Noch etwas zu Variablen\n",
    "\n",
    "In den obigen Beispielen haben wir immer wieder Variablen verwendet, z.B. wenn wir eine neue Variable durch Zuweisen erzeugt haben `wert = input(\"Deine Eingabe\")` oder wenn wir die Variable in einer Ausgabe (`print(wert)`) oder einer Umwandlung (`wert_als_zahl = int(wert)`) verwendet haben. Die Namen für diese Variablen kannst Du in Deinen Programmen selbst wählen. Meine Empfehlungen und Warnungen dazu sind aber folgende\n",
    "\n",
    " * Einigt euch darauf, in welcher **Sprache** Ihr Variablen, Funktionen und später Klassen benennen wollt. Ich verwende im Unterricht teilweise Deutsche Namen, um sie besser von den Python-Funktionen und Schlüsselwörtern unterscheiden zu können, in der Praxis **üblich sind aber Englische Namen**.\n",
    " * Verwendet einigermassen **sprechende und sinnvolle Namen** für die Variablen. Wenn die Variable `s`, `i`, `nm` oder ähnlich heisst, wissen später die Wenigsten noch, wofür diese Variablen eigentlich gedacht waren. Mit Namen wie `benutzer_eingabe`, `resultat` oder `index` wird dies schon viel klarer. Zu lange Namen machen aber auch keinen Sinn mehr und `resultat_der_quadratwurzel_berechnung_aus_der_benutzereingabe` ist sicher zu lang für eine Variable.\n",
    " * Python verlangt, dass ein Variablenname immer mit einem Buchstaben oder mit dem Zeichen `_` beginnen muss. `2bananen` und `$super` sind also ungültige Namen, `resultat` oder `_unwichtig` wären aber gültig.\n",
    " * **!!Wichtig!!** Wenn Ihr eure Variablen auf Englisch benennt, vermeidet unbedingt, Schlüsselwörter aus Python (siehe weiter unten um zu sehen, wie diese gefunden werden können), aber auch die eingebauten Datentypen und Funktionen von Python zu verwenden. Zu den verbotenen Namen der zweiten Kategorie gehörten sicher `all`, `any`, `exit`, `input`, `list`, `min`, `max`, `set`, `sum`, `tuple`, `type`. Für eine ausführlichere Liste findet Ihr ebenfalls weiter unten eine Anleitung.\n",
    " * Eine **allgemein gebräuchliche Konvention** in Python sagt, dass Variablennamen\n",
    "   * mit einem kleinen Buchstaben beginnen sollen. `name` und nicht `Name`, `anzahl` und nicht `Anzahl`\n",
    "   * bei mehreren Teilwörtern diese durch `_` voneinander getrennt werden sollen. `benutzer_name`, `mess_resultat`, ..."
   ]
  },
  {
   "cell_type": "code",
   "execution_count": 7,
   "metadata": {},
   "outputs": [
    {
     "name": "stdout",
     "output_type": "stream",
     "text": [
      "['False', 'None', 'True', 'and', 'as', 'assert', 'async', 'await', 'break', 'class', 'continue', 'def', 'del', 'elif', 'else', 'except', 'finally', 'for', 'from', 'global', 'if', 'import', 'in', 'is', 'lambda', 'nonlocal', 'not', 'or', 'pass', 'raise', 'return', 'try', 'while', 'with', 'yield']\n"
     ]
    }
   ],
   "source": [
    "# Um alle Schlüsselwörter von Python zu finden, kann folgender Code ausgeführt werden\n",
    "import keyword\n",
    "print(keyword.kwlist)"
   ]
  },
  {
   "cell_type": "code",
   "execution_count": 8,
   "metadata": {},
   "outputs": [
    {
     "name": "stdout",
     "output_type": "stream",
     "text": [
      "['ArithmeticError', 'AssertionError', 'AttributeError', 'BaseException', 'BaseExceptionGroup', 'BlockingIOError', 'BrokenPipeError', 'BufferError', 'BytesWarning', 'ChildProcessError', 'ConnectionAbortedError', 'ConnectionError', 'ConnectionRefusedError', 'ConnectionResetError', 'DeprecationWarning', 'EOFError', 'Ellipsis', 'EncodingWarning', 'EnvironmentError', 'Exception', 'ExceptionGroup', 'False', 'FileExistsError', 'FileNotFoundError', 'FloatingPointError', 'FutureWarning', 'GeneratorExit', 'IOError', 'ImportError', 'ImportWarning', 'IndentationError', 'IndexError', 'InterruptedError', 'IsADirectoryError', 'KeyError', 'KeyboardInterrupt', 'LookupError', 'MemoryError', 'ModuleNotFoundError', 'NameError', 'None', 'NotADirectoryError', 'NotImplemented', 'NotImplementedError', 'OSError', 'OverflowError', 'PendingDeprecationWarning', 'PermissionError', 'ProcessLookupError', 'PythonFinalizationError', 'RecursionError', 'ReferenceError', 'ResourceWarning', 'RuntimeError', 'RuntimeWarning', 'StopAsyncIteration', 'StopIteration', 'SyntaxError', 'SyntaxWarning', 'SystemError', 'SystemExit', 'TabError', 'TimeoutError', 'True', 'TypeError', 'UnboundLocalError', 'UnicodeDecodeError', 'UnicodeEncodeError', 'UnicodeError', 'UnicodeTranslateError', 'UnicodeWarning', 'UserWarning', 'ValueError', 'Warning', 'ZeroDivisionError', '_IncompleteInputError', '__IPYTHON__', '__build_class__', '__debug__', '__doc__', '__import__', '__loader__', '__name__', '__package__', '__spec__', 'abs', 'aiter', 'all', 'anext', 'any', 'ascii', 'bin', 'bool', 'breakpoint', 'bytearray', 'bytes', 'callable', 'chr', 'classmethod', 'compile', 'complex', 'copyright', 'credits', 'delattr', 'dict', 'dir', 'display', 'divmod', 'enumerate', 'eval', 'exec', 'execfile', 'filter', 'float', 'format', 'frozenset', 'get_ipython', 'getattr', 'globals', 'hasattr', 'hash', 'help', 'hex', 'id', 'input', 'int', 'isinstance', 'issubclass', 'iter', 'len', 'license', 'list', 'locals', 'map', 'max', 'memoryview', 'min', 'next', 'object', 'oct', 'open', 'ord', 'pow', 'print', 'property', 'range', 'repr', 'reversed', 'round', 'runfile', 'set', 'setattr', 'slice', 'sorted', 'staticmethod', 'str', 'sum', 'super', 'tuple', 'type', 'vars', 'zip']\n"
     ]
    }
   ],
   "source": [
    "# Weitere Namen, die von Python bereits benutzt werden, kann mit folgendem Code gefunden werden\n",
    "print(dir(__builtins__))"
   ]
  },
  {
   "cell_type": "markdown",
   "metadata": {},
   "source": [
    "## Aufgabenstellung\n",
    "\n",
    "Schreibe ein Python-Programm welches vom Nutzer einen Namen entgegen nimmt (benutze die Funktion `input`) und von diesem 10 zufällig generierte Rekombinationen der enthaltenen Buchstaben erzeugt.\n",
    "\n",
    "Folgende Anforderungen sollen dabei erfüllt sein\n",
    "\n",
    " * Leerzeichen werden wie ein Buchstabe behandelt und können irgendwie in den Rekombinationen landen\n",
    " * Alle Zeichen der Eingabe werden in der Ausgabe verwendet.\n",
    "\n",
    "### Beispiel\n",
    "Gibt der Benutzer beispielsweise `\"Tina\"` ein, könnte das Programm folgende Zeilen ausgeben\n",
    "\n",
    "```\n",
    "nTia\n",
    "aniT\n",
    "Tani\n",
    "Tnai\n",
    "...\n",
    "```\n",
    "\n",
    "Die restlichen 6 Zeilen wurden weggelassen.\n",
    "\n",
    "Zusätzliche Tipps für die Lösung dieser Aufgabe, z.B. eine Reihe von nützlichen Funktionen findest Du weiter unten im Abschnitt **Hilfreiche Tips für die Übung**.\n",
    "\n",
    "### Erweiterungen der Anforderungen\n",
    "Wenn du die ursprünglichen Anforderungen erfüllt hast, versuche auch noch eine oder mehrere der folgenden Anforderungen zu erfüllen:\n",
    "\n",
    " * Stelle sicher, dass das Leerzeichen nicht ganz am Anfang oder ganz am Ende steht. Wenn der Nutzer also zwei Worte mit Leerzeichen getrennt eingibt, sollen auch die Rekombinationen wie zwei Worte aussehen.\n",
    " * Stelle sicher, dass in der Rekombination jedes Wort mit einem Grossbuchstaben beginnt und bis zum Wortende nur Kleinbuchstaben enthält."
   ]
  },
  {
   "cell_type": "code",
   "execution_count": 12,
   "metadata": {},
   "outputs": [
    {
     "name": "stdout",
     "output_type": "stream",
     "text": [
      "Seba\n",
      "['S', 'e', 'b', 'a']\n"
     ]
    }
   ],
   "source": [
    "# TODO:  hier kannst Du Deinen Code schreiben:\n",
    "name = input(\"Geben Sie Ihren Namen ein:\")\n",
    "\n",
    "name_shuffled = list(name)\n",
    "\n",
    "\n",
    "print(name)\n",
    "print(name_shuffled)"
   ]
  },
  {
   "cell_type": "markdown",
   "metadata": {},
   "source": [
    "### Hilfreiche Tips für die Übung\n",
    "\n",
    "Die folgenden Abschnitte sollen einige zusätzlichen Hilfen für die Lösung der Anagramme-Übung enthalten. Experimentiere auch hier gerne selbst mit den vorhandenen Code-Stücken, verändere den Code und beobachte, wie sich die Ausgaben verändern.\n",
    "\n",
    "#### Zeichenketten\n",
    "Zeichenketten werden mit Double-Quotes `\"` oder Single-Quotes `'` markiert"
   ]
  },
  {
   "cell_type": "code",
   "execution_count": null,
   "metadata": {},
   "outputs": [
    {
     "data": {
      "text/plain": [
       "'Hans Muster'"
      ]
     },
     "metadata": {},
     "output_type": "display_data"
    }
   ],
   "source": [
    "\"Hans Muster\""
   ]
  },
  {
   "cell_type": "markdown",
   "metadata": {},
   "source": [
    "Um diese einer Variablen zu zuweisen benutzt man einfach `=`."
   ]
  },
  {
   "cell_type": "code",
   "execution_count": null,
   "metadata": {},
   "outputs": [],
   "source": [
    "name = \"Hans Muster\""
   ]
  },
  {
   "cell_type": "markdown",
   "metadata": {},
   "source": [
    "Die Länge einer Zeichenkette erhält man mit der Funktion `len`"
   ]
  },
  {
   "cell_type": "code",
   "execution_count": null,
   "metadata": {},
   "outputs": [
    {
     "data": {
      "text/plain": [
       "11"
      ]
     },
     "metadata": {},
     "output_type": "display_data"
    }
   ],
   "source": [
    "len(name)"
   ]
  },
  {
   "cell_type": "markdown",
   "metadata": {},
   "source": [
    "Um diese Länge später verwenden zu können, kannst Du sie auch wieder einer Variablen zuweisen."
   ]
  },
  {
   "cell_type": "code",
   "execution_count": null,
   "metadata": {},
   "outputs": [],
   "source": [
    "laenge_von_s = len(name)"
   ]
  },
  {
   "cell_type": "markdown",
   "metadata": {},
   "source": [
    "Eine etwas spezielle Zeichenkette ist die \"leere Zeichenkette\". Es ist aber einfach eine Zeichenkette ohne irgendwelche Zeichen. Entsprechend gibt auch ``len`` die Länge 0 zurück."
   ]
  },
  {
   "cell_type": "code",
   "execution_count": null,
   "metadata": {},
   "outputs": [
    {
     "data": {
      "text/plain": [
       "0"
      ]
     },
     "metadata": {},
     "output_type": "display_data"
    }
   ],
   "source": [
    "leere_zeichen_kette = \"\"\n",
    "len(leere_zeichen_kette)"
   ]
  },
  {
   "cell_type": "markdown",
   "metadata": {},
   "source": [
    "Zeichenketten verhalten sich wie Listen und man kann elementweise auf einzelne Zeichen zugreifen mit dem `[]`-Operator. Wie bei Listen ist der Index 0-basiert, das erste Zeichen ist also an Index 0."
   ]
  },
  {
   "cell_type": "code",
   "execution_count": null,
   "metadata": {},
   "outputs": [
    {
     "data": {
      "text/plain": [
       "'M'"
      ]
     },
     "metadata": {},
     "output_type": "display_data"
    }
   ],
   "source": [
    "index = 4\n",
    "name[index+1]"
   ]
  },
  {
   "cell_type": "markdown",
   "metadata": {},
   "source": [
    "Man kann Zeichenketten mit `+` zusammenhängen."
   ]
  },
  {
   "cell_type": "code",
   "execution_count": null,
   "metadata": {},
   "outputs": [
    {
     "data": {
      "text/plain": [
       "'Hallo Welt'"
      ]
     },
     "metadata": {},
     "output_type": "display_data"
    }
   ],
   "source": [
    "s1 = \"Hallo\"\n",
    "s2 = \"Welt\"\n",
    "s1 + \" \" + s2"
   ]
  },
  {
   "cell_type": "markdown",
   "metadata": {},
   "source": [
    "Um Zahlen mit Text zu kombinieren, müssen die Zahlen zuerst in Text umgewandelt werden. Dies ist möglich mit der Funktion `str()`."
   ]
  },
  {
   "cell_type": "code",
   "execution_count": null,
   "metadata": {},
   "outputs": [
    {
     "data": {
      "text/plain": [
       "'3,blubber'"
      ]
     },
     "metadata": {},
     "output_type": "display_data"
    }
   ],
   "source": [
    "zahl = 3\n",
    "text = \"blubber\"\n",
    "str(zahl) + \",\" + text"
   ]
  },
  {
   "cell_type": "markdown",
   "metadata": {},
   "source": [
    "Eine andere Möglichkeit sind sogenannte Format- oder `f`-Strings. Dem ersten `\"` wird ein `f` voran gestellt und die Variablen, egal ob Zahlen oder Texte, können in `{}` eingefasst direkt in die Zeichenkette eingefügt werden:"
   ]
  },
  {
   "cell_type": "code",
   "execution_count": null,
   "metadata": {},
   "outputs": [
    {
     "data": {
      "text/plain": [
       "'3, 4'"
      ]
     },
     "metadata": {},
     "output_type": "display_data"
    }
   ],
   "source": [
    "zahl1 = 3\n",
    "zahl2 = 4\n",
    "f\"{zahl1}, {zahl2}\""
   ]
  },
  {
   "cell_type": "markdown",
   "metadata": {},
   "source": [
    "Man kann auch einzelne Zeichen mit `+` zusammensetzen."
   ]
  },
  {
   "cell_type": "code",
   "execution_count": null,
   "metadata": {},
   "outputs": [
    {
     "data": {
      "text/plain": [
       "'HM'"
      ]
     },
     "metadata": {},
     "output_type": "display_data"
    }
   ],
   "source": [
    "name[0]+name[5]"
   ]
  },
  {
   "cell_type": "markdown",
   "metadata": {},
   "source": [
    "Mit sogenannten \"Slices\" können Teile aus einer Zeichenkette herausgeholt werden. Die Grundform sieht so aus: `s[start:end]`. `start` bezeichnet den Index des ersten Zeichens, das im Slice enthalten sein soll, `end` bezeichnet das erste Zeichen danach, welches nicht mehr enthalten sein soll. Wenn `start` bis zum Anfang der Zeichenkette bzw. `end` bis zum Ende der Zeichenkette reichen soll, können sie auch weggelassen werden: `s[start:]` bzw. `s[:end]`."
   ]
  },
  {
   "cell_type": "code",
   "execution_count": null,
   "metadata": {},
   "outputs": [
    {
     "data": {
      "text/plain": [
       "'Hans'"
      ]
     },
     "metadata": {},
     "output_type": "display_data"
    }
   ],
   "source": [
    "name[:4]"
   ]
  },
  {
   "cell_type": "markdown",
   "metadata": {},
   "source": [
    "#### Listen\n",
    "\n",
    "Um die Buchstaben einer Zeichenkette durcheinander zu würfeln, werden wir mit Listen arbeiten müssen. Listen, also auch die Reihenfolge der Elemente in einer Liste sind veränderlich, während Zeichenketten nicht verändert werden können. Deshalb macht es Sinn, einen kurzen Ausflug in Listen zu machen."
   ]
  },
  {
   "cell_type": "markdown",
   "metadata": {},
   "source": [
    "Listen kann man direkt erstellen mit den Zeichen `[` und `]`"
   ]
  },
  {
   "cell_type": "code",
   "execution_count": 3,
   "metadata": {},
   "outputs": [],
   "source": [
    "liste = [1, 2, 3, 4]"
   ]
  },
  {
   "cell_type": "markdown",
   "metadata": {},
   "source": [
    "und dann genau wie bei den Buchstaben von Zeichenketten auf einzelne Listeeinträge über den Index zugreifen."
   ]
  },
  {
   "cell_type": "code",
   "execution_count": null,
   "metadata": {},
   "outputs": [
    {
     "data": {
      "text/plain": [
       "3"
      ]
     },
     "metadata": {},
     "output_type": "display_data"
    }
   ],
   "source": [
    "liste[2]"
   ]
  },
  {
   "cell_type": "markdown",
   "metadata": {},
   "source": [
    "#### Zufall\n",
    "\n",
    "Um Buchstaben durcheinander zu würfeln oder einfach eine zufällige Zahl zu generieren, können wir auf existierende Python-Funktionen zurück greifen. Wir müssen diese nicht selbst schreiben."
   ]
  },
  {
   "cell_type": "markdown",
   "metadata": {},
   "source": [
    "Für das nächste Beispiel brauchen wir eine Bibliothek, die wir mit `import` herein holen."
   ]
  },
  {
   "cell_type": "code",
   "execution_count": 5,
   "metadata": {},
   "outputs": [],
   "source": [
    "import random"
   ]
  },
  {
   "cell_type": "markdown",
   "metadata": {},
   "source": [
    "Mit der Funktion `randrange(start, end)` kann eine Zufallszahl innerhalb eines Bereichs erzeugt werden. Die beiden Parameter geben den Bereich an, `start` ist die erste Zahl des Bereichs und `end` die erste Zahl **ausserhalb** des Bereichs. Der folgende Aufruf erzeugt also Zahlen von 1 bis 3. Führe diesen Code auch mehrmals aus, um zu sehen, was für verschiedene Ausgaben Du erhälst."
   ]
  },
  {
   "cell_type": "code",
   "execution_count": 11,
   "metadata": {},
   "outputs": [
    {
     "data": {
      "text/plain": [
       "1"
      ]
     },
     "execution_count": 11,
     "metadata": {},
     "output_type": "execute_result"
    }
   ],
   "source": [
    "random.randrange(1, 4)"
   ]
  },
  {
   "cell_type": "markdown",
   "metadata": {},
   "source": [
    "Mit der Funktion `shuffle` aus `random` kann eine Liste \"durchgeschüttelt\" werden. Die Liste selbst wird direkt verändert und es wird kein Rückgabewert gegeben."
   ]
  },
  {
   "cell_type": "code",
   "execution_count": null,
   "metadata": {},
   "outputs": [
    {
     "name": "stdout",
     "output_type": "stream",
     "text": [
      "[4, 2, 1, 3]\n"
     ]
    }
   ],
   "source": [
    "random.shuffle(liste)\n",
    "print(liste)"
   ]
  },
  {
   "cell_type": "markdown",
   "metadata": {},
   "source": [
    "Die Funktion `random.shuffle()` greift im Hintergrund auf die einzelnen Elemente der Liste zu und verändert diese. Du kannst Dir diesen Zugriff vereinfacht in etwa folgendermassen vorstellen:"
   ]
  },
  {
   "cell_type": "code",
   "execution_count": null,
   "metadata": {},
   "outputs": [
    {
     "data": {
      "text/plain": [
       "[234, 2, 1, 3]"
      ]
     },
     "metadata": {},
     "output_type": "display_data"
    }
   ],
   "source": [
    "liste[0] = 234\n",
    "liste"
   ]
  },
  {
   "cell_type": "markdown",
   "metadata": {},
   "source": [
    "Würdest Du versuchen das gleiche mit einer Zeichenkette zu machen, würde Python dies verweigern. Aus diesem Grund funktioniert auch `random.shuffle()` nicht direkt auf einer Zeichenkette:"
   ]
  },
  {
   "cell_type": "code",
   "execution_count": 12,
   "metadata": {},
   "outputs": [
    {
     "ename": "NameError",
     "evalue": "name 'name' is not defined",
     "output_type": "error",
     "traceback": [
      "\u001b[31m---------------------------------------------------------------------------\u001b[39m",
      "\u001b[31mNameError\u001b[39m                                 Traceback (most recent call last)",
      "\u001b[36mCell\u001b[39m\u001b[36m \u001b[39m\u001b[32mIn[12]\u001b[39m\u001b[32m, line 1\u001b[39m\n\u001b[32m----> \u001b[39m\u001b[32m1\u001b[39m \u001b[38;5;28mprint\u001b[39m(\u001b[43mname\u001b[49m)\n\u001b[32m      2\u001b[39m \u001b[38;5;66;03m# folgende Zeile geht leider nicht:\u001b[39;00m\n\u001b[32m      3\u001b[39m \u001b[38;5;66;03m# random.shuffle(s)\u001b[39;00m\n\u001b[32m      4\u001b[39m \u001b[38;5;66;03m# Die Funktion random.shuffle() führt im Hintergrund Operationen ähnlich zur folgenden aus. Auch wenn\u001b[39;00m\n\u001b[32m      5\u001b[39m \u001b[38;5;66;03m# Du selbst versuchst, eine solche Änderungen vorzunehmen, wird Python dies bei Zeichenketten verweigern.\u001b[39;00m\n\u001b[32m      6\u001b[39m name[\u001b[32m0\u001b[39m] = \u001b[33m\"\u001b[39m\u001b[33mA\u001b[39m\u001b[33m\"\u001b[39m\n",
      "\u001b[31mNameError\u001b[39m: name 'name' is not defined"
     ]
    }
   ],
   "source": [
    "print(name)\n",
    "# folgende Zeile geht leider nicht:\n",
    "# random.shuffle(s)\n",
    "# Die Funktion random.shuffle() führt im Hintergrund Operationen ähnlich zur folgenden aus. Auch wenn\n",
    "# Du selbst versuchst, eine solche Änderungen vorzunehmen, wird Python dies bei Zeichenketten verweigern.\n",
    "name[0] = \"A\""
   ]
  },
  {
   "cell_type": "markdown",
   "metadata": {},
   "source": [
    "Mit der Funktion `list()` kann aber eine Zeichenkette in eine Liste von Zeichen verwandelt werden."
   ]
  },
  {
   "cell_type": "code",
   "execution_count": null,
   "metadata": {},
   "outputs": [
    {
     "name": "stdout",
     "output_type": "stream",
     "text": [
      "['H', 'a', 'n', 's', ' ', 'M', 'u', 's', 't', 'e', 'r']\n"
     ]
    }
   ],
   "source": [
    "zl = list(name)\n",
    "print(zl)"
   ]
  },
  {
   "cell_type": "markdown",
   "metadata": {},
   "source": [
    "Auf dieser könnten wir die `random.shuffle()`-Funktion endlich ausführen.\n",
    "\n",
    "Die Umkehrung davon geht mit der Konstruktion ``\"\".join(liste)``."
   ]
  },
  {
   "cell_type": "code",
   "execution_count": null,
   "metadata": {},
   "outputs": [
    {
     "name": "stdout",
     "output_type": "stream",
     "text": [
      "Hans Muster\n"
     ]
    }
   ],
   "source": [
    "wieder_als_string = \"\".join(zl)\n",
    "print(wieder_als_string)"
   ]
  },
  {
   "cell_type": "code",
   "execution_count": null,
   "metadata": {},
   "outputs": [
    {
     "data": {
      "text/plain": [
       "'M euHsnrtsa'"
      ]
     },
     "metadata": {},
     "output_type": "display_data"
    }
   ],
   "source": [
    "random.shuffle(zl)\n",
    "\"\".join(zl)"
   ]
  },
  {
   "cell_type": "markdown",
   "metadata": {},
   "source": [
    "Mit `replace()` kann eine neue Zeichenkette erzeugt werden, in welcher bestimmte Buchstaben oder ganze Zeichenketten durch andere ersetzt wurden. Im Gegensatz zur ``shuffle``-Funktion musst du das Resultat der ``replace``-Funktion wieder irgendwo speichern, sonst geht die Ersetzung verloren."
   ]
  },
  {
   "cell_type": "code",
   "execution_count": null,
   "metadata": {},
   "outputs": [
    {
     "name": "stdout",
     "output_type": "stream",
     "text": [
      "Hans-Muster\n"
     ]
    }
   ],
   "source": [
    "new_s = name.replace(\" \", \"-\")\n",
    "print(new_s)"
   ]
  },
  {
   "cell_type": "markdown",
   "metadata": {},
   "source": [
    "Mit der `count()`-Funktion kann man zählen, wie oft ein Zeichen in einer Zeichenkette auftritt."
   ]
  },
  {
   "cell_type": "code",
   "execution_count": null,
   "metadata": {},
   "outputs": [
    {
     "data": {
      "text/plain": [
       "2"
      ]
     },
     "metadata": {},
     "output_type": "display_data"
    }
   ],
   "source": [
    "name.count(\"s\")"
   ]
  },
  {
   "cell_type": "markdown",
   "metadata": {},
   "source": [
    "Mit der Funktion ``lower()`` kannst Du alle Buchstaben einer Zeichenkette in Kleinbuchstaben verwandeln. Wie bei ``replace()`` erzeugt auch ``lower()`` eine neue Kopie, die Du einer Variable zuweisen musst. Mit der Funktion ``capitalize()`` kannst Du in einer Zeichenkette den ersten Buchstaben in einen Grossbuchstaben und alle folgenden in Kleinbuchstaben verwandeln. Mit der Funktion ``title()`` kannst Du sogar jeden ersten Buchstaben eines neuen Wortes in Grossbuchstaben verwandeln."
   ]
  },
  {
   "cell_type": "code",
   "execution_count": null,
   "metadata": {},
   "outputs": [
    {
     "name": "stdout",
     "output_type": "stream",
     "text": [
      "hans muster\n",
      "Hans muster\n",
      "Hans Muster\n"
     ]
    }
   ],
   "source": [
    "alles_klein_buchstaben = name.lower()\n",
    "capitalized = alles_klein_buchstaben.capitalize()\n",
    "titelized = alles_klein_buchstaben.title()\n",
    "print(alles_klein_buchstaben)\n",
    "print(capitalized)\n",
    "print(titelized)"
   ]
  }
 ],
 "metadata": {
  "kernelspec": {
   "display_name": "Python 3",
   "language": "python",
   "name": "python3"
  },
  "language_info": {
   "codemirror_mode": {
    "name": "ipython",
    "version": 3
   },
   "file_extension": ".py",
   "mimetype": "text/x-python",
   "name": "python",
   "nbconvert_exporter": "python",
   "pygments_lexer": "ipython3",
   "version": "3.13.7"
  }
 },
 "nbformat": 4,
 "nbformat_minor": 2
}
